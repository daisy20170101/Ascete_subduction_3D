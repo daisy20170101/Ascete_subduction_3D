{
 "cells": [
  {
   "cell_type": "markdown",
   "metadata": {},
   "source": [
    "<div style='background-image: url(\"./seissol2.jpg\") ; padding: 0px ; background-size: cover ; border-radius: 5px ; height: 250px'>\n",
    "    <div style=\"float: right ; margin: 50px ; padding: 20px ; background: rgba(255 , 255 , 255 , 0.7) ; width: 50% ; height: 130px\">\n",
    "        <div style=\"position: relative ; top: 50% ; transform: translatey(-50%)\">\n",
    "                <div style=\"font-size: xx-large ; font-weight: 900 ; color: rgba(0 , 0 , 0 , 0.8) ; line-height: 100%\">TPV5</div>\n",
    "                <div style=\"font-size: large ; padding-top: 20px ; color: rgba(0 , 0 , 0 , 0.5)\">SCEC benchmark for a vertical strike-slip fault </div>\n",
    "        </div>\n",
    "    </div>\n",
    "\n",
    "</div>"
   ]
  },
  {
   "cell_type": "markdown",
   "metadata": {},
   "source": [
    "---\n",
    "\n",
    "This notebook is based on the benchmakr of TPV 5 of SCEC dynamic code validation project [SCEC](http://scecdata.usc.edu/cvws/).\n",
    "\n",
    "More infomation about SeisSol can found at [@SeisSol GitHub](https://github.com/SeisSol)\n",
    "\n",
    "##### Authors:\n",
    "* Duo Li ([@dli](https://github.com/daisy20170101))\n",
    "* Thomas Ulrich ([@tulrich](https://github.com/Thomas-Ulrich))\n",
    "* Elizabeth Madden ([@elizabethmadden](betsymadden@gmail.com))\n",
    "* Alice Gabriel([@agabriel](https://www.geophysik.uni-muenchende/Members/gabriel))"
   ]
  },
  {
   "cell_type": "markdown",
   "metadata": {},
   "source": [
    "# Problem discription\n",
    "\n",
    "## TPV 5\n",
    "\n",
    "TPV5 is the first SCEC benchmark. It has spontaneous rupture on a vertical strike-slip fault in a homogeneous halfspace. There are slightly heterogeneous initial stress conditions. The earthquake rupture is artificially nucleated in a square zone at the center of the fault surface. The rupture then spontaneously propagates over the rest of the fault surface. As it propagates away from the nucleation zone, it encounters two square patches with initial stress conditions that are different from the rest of the fault surface. \n",
    "\n",
    "<img src=\"TPV5/tpv5_mesh.png\"\n",
    "     alt=\"Diagram of TPV5. The central square patch is the nucleation zone, while pink and green patches with higher and lower initial stress than neighbour region, respectively.\"\n",
    "     style=\"float: left; margin-right: 10px;height:300px;\" />\n",
    "     \n",
    "\n"
   ]
  },
  {
   "cell_type": "markdown",
   "metadata": {},
   "source": [
    "# Fault geometry\n",
    "\n",
    "The fault within the three-dimensional medium is a vertical right-lateral strike-slip planar fault that resides in a half-space. The fault reaches the Earth’s surface. The rupture is allowed within a rectangular area that is 30000 m long × 15000 m deep. The bottom boundary of and the right and left ends of the allowed 30000 m × 15000 m rupture area are defined by a strength barrier. The nucleation point is centered both along-dip and along-strike of the 30000m × 15000m rupture area, on the fault plane, at 15000m along-strike and 7500m depth.\n",
    "\n"
   ]
  },
  {
   "cell_type": "markdown",
   "metadata": {},
   "source": [
    "### Mesh generation\n"
   ]
  },
  {
   "cell_type": "markdown",
   "metadata": {},
   "source": [
    "#### GMSH - a free mesh generator\n",
    "\n",
    "The .geo is the GMSH file for the earthquake model mesh and can be editted directly to change the structural model or the mesh resolution.\n",
    "The .geo file is then optimized and converted to .neu format.\n",
    "PUMGen is used to export the mesh into an efficient xdmf format that is used by SeisSol.\n",
    "\n",
    "More GMSH information can be found at [SeisSol: Gmsh](https://seissol.readthedocs.io/en/latest/gmsh.html)\n",
    "More PUMGen information can be found at [SeisSol: Meshing with PUMGen](https://seissol.readthedocs.io/en/latest/meshing-with-pumgen.html)\n",
    "\n",
    "\n",
    "<img src=\"mesh5.png\"\n",
    "     alt=\"Image of mesh structure defined in the .geo file\"\n",
    "     style=\"float: left; margin-right: 10px;height:300px;\" />\n",
    "     \n",
    "\n",
    "\n"
   ]
  },
  {
   "cell_type": "markdown",
   "metadata": {},
   "source": [
    "# SeisSol Initialization \n"
   ]
  },
  {
   "cell_type": "markdown",
   "metadata": {},
   "source": [
    "### Launch SeisSol in MPI Cluster\n",
    "\n",
    "Prerequisite module needs:\n",
    "\n",
    "- Python (>= 3.6)\n",
    "- Numpy (>= 1.12.0)\n",
    "- SCons (>= 3.0, for instructions see below)\n",
    "- hdf5 (>= 1.8, for instructions see below)\n",
    "- netcdf (C-Release) (>= 4.4, for instructions see below)\n",
    "- Intel compiler (>= 17.0, icc, icpc, ifort) or GCC (>= 5.0, gcc, g++, gfortran)\n",
    "- Some MPI implementation (e.g. OpenMPI)\n",
    "- ParMETIS for partitioning\n",
    "- libxsmm (libxsmm_gemm_generator) for small matrix multiplications\n",
    "- PSpaMM (pspamm.py) for small sparse matrix multiplications (required only on Knights Landing or Skylake)\n",
    "- CMake (for compiling submodules ImpalaJIT and yaml-cpp)\n"
   ]
  },
  {
   "cell_type": "markdown",
   "metadata": {},
   "source": [
    "## Get SeisSol\n",
    "\n",
    "    git clone https://github.com/SeisSol/SeisSol.git\n",
    "    git submodule update --init\n",
    "    \n"
   ]
  },
  {
   "cell_type": "markdown",
   "metadata": {},
   "source": [
    "## SeisSol initialization in Argo\n",
    "\n",
    "    # User specific aliases and functions\n",
    "    export PATH=$PATH:/home/dli/bin::/home/dli/software/bin\n",
    "    export LIBRARY_PATH=/home/dli/software/lib:$LIBRARY_PATH\n",
    "    export LD_LIBRARY_PATH=/home/dli/software/lib:$LD_LIBRARY_PATH\n",
    "\n",
    "    # module for SeisSol\n",
    "    module load intel-mkl/2017\n",
    "    module load intel/2017\n",
    "    module load openmpi/1.10.2/intel/2017\n",
    "    module load python/3.6.4\n",
    "    module load cmake/3.9.2\n",
    "\n",
    "    # compiler for SeisSol in openmpi/1.10.2/intel/2017\n",
    "    export CC=mpicc\n",
    "    export FC=mpif90\n",
    "    export CXX=mpicxx\n"
   ]
  },
  {
   "cell_type": "markdown",
   "metadata": {},
   "source": [
    "## Compilation specification\n",
    "\n",
    "    # build options\n",
    "    compileMode = 'release'\n",
    "    # generatedKernels = 'yes'\n",
    "    arch = 'dsnb' # use 'dsnb' for SuperMUC phase 1 or use 'dhsw' for SuperMUC phase 2\n",
    "    parallelization = 'hybrid'\n",
    "    # measureNodeLevelPerformance = 'none'\n",
    "    asagi = 'no' # if using Asagi put 'yes', otherwise no.\n",
    "    commThread = 'no' # Put a 'yes' on phase 2 and 'no' on phase 1 in supermuc\n",
    "    order = '4' # valid values are 'none', '2', '3', '4', '5', '6', '7', and '8'.\n",
    "\n",
    "    cppCompiler = 'mpicc'\n",
    "    fortranCompiler ='mpif90'\n",
    "\n",
    "    compiler = 'intel'\n",
    "    equations = 'elastic' # valid values are 'elastic', 'viscoelastic', 'viscoelastic2'\n",
    "    plasticity = 'yes'\n",
    "    useExecutionEnvironment = 'yes'\n",
    "    logLevel = 'warning'\n",
    "    logLevel0 = 'info'\n",
    "    netcdf = 'yes'\n",
    "    hdf5 = 'yes'\n",
    "\n",
    "    netcdfDir='/home/dli/software'\n",
    "    hdf5Dir='/home/dli/software'\n",
    "\n",
    "    metis = 'yes'\n",
    "    metisDir = '/home/dli/software'\n",
    "    unitTests = 'none'\n",
    "    \n",
    "    # asagi = 'no' ! need to install ASAGI to invoke\n",
    "    # zlibDir='/home/dli/software/ASAGI/lib/'"
   ]
  },
  {
   "cell_type": "markdown",
   "metadata": {},
   "source": [
    " ## Sbath Submission in Argo\n",
    " \n",
    "    #!/bin/bash\n",
    "    #SBATCH --job-name=\"Seissol\"\n",
    "    #SBATCH -o job.%j.out\n",
    "    #SBATCH -e job.%j.err\n",
    "    #SBATCH -p testing\n",
    "    #SBATCH -t 0-6:00\n",
    "    #SBATCH -N 2\n",
    "\n",
    "    #SBATCH --ntasks-per-node=1\n",
    "    #SBATCH --cpus-per-task=8\n",
    "    #SBATCH --mail-user=d.li@lmu.de\n",
    "    #SBATCH --mail-type=ALL\n",
    "    module purge\n",
    "    module load intel-mkl/2017\n",
    "    module load intel/2017\n",
    "    module load openmpi/1.10.2/intel/2017\n",
    "\n",
    "    export pwd='/home/dli/SeisSol_Cookbook/tpv5'\n",
    "    #export MP_SINGLE_THREAD=yes\n",
    "    export OMP_NUM_THREADS=8\n",
    "\n",
    "    mpirun  ./SeisSol_release_generatedKernels_dsnb_hybrid_none_9_4 parameters.par"
   ]
  },
  {
   "cell_type": "markdown",
   "metadata": {},
   "source": [
    "### Parameter file\n",
    "\n",
    " The .par (an Ascii text file) constains the necessary parameters for SeisSol to run the earthquake model.\n",
    "\n",
    "\n",
    "#### Easi\n",
    "\n",
    "SeisSol employs easi files (.yaml) for assigning properties related to fault friction, the stress field and the surrounding material.\n",
    "These are explained below for this earthquake model. \n",
    "\n",
    "More examples can be found at [SeisSol:easi](https://seissol.readthedocs.io/en/latest/easi.html)\n",
    "\n"
   ]
  },
  {
   "cell_type": "markdown",
   "metadata": {},
   "source": [
    "\n",
    "### Velocity structure\n",
    "\n",
    "A materials .yaml contains the constant values assigned in this test case to density (rho), Lame's parameter (lambda) and the shear modulus (mu).\n",
    "\n"
   ]
  },
  {
   "cell_type": "markdown",
   "metadata": {},
   "source": [
    "### Fault friction\n",
    "\n",
    "SeisSol provides a number of friction constitutive laws, e.g. linear slip weakening and rate-and-state. \n",
    "\n",
    "This test case utilizes linear slip weakening and this law (30) is assigned in the parameter file.\n",
    "The frictional parameters (the static and dynamic friction coefficients, mu_s and mu_d, and the slip-weakening distance, d_c) are assigned in the stress .yaml file.\n",
    "The on-fault cohesion is constant in Scenario B, but increases to 8 MPa above 15 km depth in Scenario A.\n",
    "\n"
   ]
  },
  {
   "cell_type": "markdown",
   "metadata": {},
   "source": [
    "### Initial stress condition\n",
    "\n",
    "SeisSol uses stress tensor ($\\sigma_{xx},\\sigma_{yy},\\sigma_{zz},\\sigma_{xy},\\sigma_{yz},\\sigma_{xz}$) or traction components (normal & shear stress) for initializing background stress condition. \n",
    "\n",
    "This test case has a simple, depth-dependent stress field specified in AscSimple_initial_stress.yaml.\n",
    "The pore fluid pressure also is specified in the stress .yaml and is near-lithostatic.\n",
    "\n",
    "\n"
   ]
  },
  {
   "cell_type": "markdown",
   "metadata": {},
   "source": [
    "## Result Visualization\n",
    "\n",
    "SeisSol provides results in vtk format that is used in [ParaView](https://www.paraview.org/) directly. \n",
    "\n",
    "\n",
    "<img src=\"TPV5/tpv5_SRs_3s.png\"\n",
    "     alt=\"Image of fault slip rate in ParaView\"\n",
    "     style=\"float: left; margin-right: 10px;height:300px;\" />\n",
    "     \n",
    "\n"
   ]
  },
  {
   "cell_type": "code",
   "execution_count": null,
   "metadata": {},
   "outputs": [],
   "source": []
  }
 ],
 "metadata": {
  "kernelspec": {
   "display_name": "Python 3",
   "language": "python",
   "name": "python3"
  },
  "language_info": {
   "codemirror_mode": {
    "name": "ipython",
    "version": 3
   },
   "file_extension": ".py",
   "mimetype": "text/x-python",
   "name": "python",
   "nbconvert_exporter": "python",
   "pygments_lexer": "ipython3",
   "version": "3.6.7"
  }
 },
 "nbformat": 4,
 "nbformat_minor": 2
}
