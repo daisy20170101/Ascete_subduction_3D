{
 "cells": [
  {
   "cell_type": "markdown",
   "metadata": {},
   "source": [
    "<div style='background-image: url(\"./seissol2.jpg\") ; padding: 0px ; background-size: cover ; border-radius: 5px ; height: 250px'>\n",
    "    <div style=\"float: right ; margin: 50px ; padding: 20px ; background: rgba(255 , 255 , 255 , 0.7) ; width: 50% ; height: 130px\">\n",
    "        <div style=\"position: relative ; top: 50% ; transform: translatey(-50%)\">\n",
    "            <div style=\"font-size: xx-large ; font-weight: 900 ; color: rgba(0 , 0 , 0 , 0.8) ; line-height: 100%\">ASCETE</div>\n",
    "            <div style=\"font-size: large ; padding-top: 20px ; color: rgba(0 , 0 , 0 , 0.5)\">3D Subduction fault simulation </div>\n",
    "        </div>\n",
    "    </div>\n",
    "</div>"
   ]
  },
  {
   "cell_type": "markdown",
   "metadata": {},
   "source": [
    "---\n",
    "\n",
    "This notebook is based on a test case from ASCETE project for linking dynamic rupture and tsunami modeling in a simple, 3D subduction zone model.\n",
    "\n",
    "More infomation about SeisSol can found at [@SeisSol GitHub](https://github.com/SeisSol)\n",
    "\n",
    "##### Authors:\n",
    "* Duo Li ([@dli](https://github.com/daisy20170101))\n",
    "* Thomas Ulrich ([@tulrich](https://github.com/Thomas-Ulrich))\n",
    "* Elizabeth Madden ([@elizabethmadden](betsymadden@gmail.com))\n",
    "* Alice Gabriel([@agabriel](https://www.geophysik.uni-muenchende/Members/gabriel))"
   ]
  },
  {
   "cell_type": "markdown",
   "metadata": {},
   "source": [
    "## Basic Equations\n",
    "\n",
    "SeisSol is designed to solve for seismic wave propagation and dynamic earthquake rupture on an unstructured tetrahedral mesh.\n",
    "\n",
    "SeisSol solves the linear elastic wave equation.\n",
    "$$\n",
    "\\begin{align}\n",
    "\\frac{\\partial}{\\partial_t} \\sigma_{xx} - (\\lambda+2\\mu)\\frac{\\partial}{\\partial_x} u - \\lambda \\frac{\\partial}{\\partial_y} v -\\lambda  \\frac{\\partial}{\\partial_z} w &= S_{xx}\\\\\\\\\n",
    "\\frac{\\partial}{\\partial_t} \\sigma_{yy} - \\lambda \\frac{\\partial}{\\partial_x} u - (\\lambda+2\\mu) \\frac{\\partial}{\\partial_y} v - \\lambda \\frac{\\partial}{\\partial_z} w &= S_{yy}\\\\\\\\\n",
    "\\frac{\\partial}{\\partial_t} \\sigma_{zz} - \\lambda \\frac{\\partial}{\\partial_x} u - \\lambda \\frac{\\partial}{\\partial_y} v - (\\lambda+2\\mu)\\frac{\\partial}{\\partial_z} w &= S_{zz}\\\\\\\\\n",
    "\\frac{\\partial}{\\partial_t} \\sigma_{xy} - \\mu (\\frac{\\partial}{\\partial_x}v +\\frac{\\partial}{\\partial_y}u  ) &=  S_{xy} \\\\\\\\\n",
    "\\frac{\\partial}{\\partial_t} \\sigma_{yz} - \\mu (\\frac{\\partial}{\\partial_z}v +\\frac{\\partial}{\\partial_y}w  ) &=  S_{yz} \\\\\\\\\n",
    "\\frac{\\partial}{\\partial_t} \\sigma_{xz} - \\mu (\\frac{\\partial}{\\partial_z}u +\\frac{\\partial}{\\partial_x}w  ) &=  S_{xz} \\\\\\\\\n",
    "\\frac{\\partial}{\\partial_t} (\\rho u) - \\frac{\\partial}{\\partial_x} \\sigma_{xx} - \\frac{\\partial}{\\partial_y} \\sigma_{xy} -  \\frac{\\partial}{\\partial_z} \\sigma_{xz} &= \\rho S_u\\\\\\\\\n",
    "\\frac{\\partial}{\\partial_t} (\\rho v) - \\frac{\\partial}{\\partial_x} \\sigma_{xy} - \\frac{\\partial}{\\partial_y} \\sigma_{yy} -  \\frac{\\partial}{\\partial_z} \\sigma_{yz} &= \\rho S_v\\\\\\\\\n",
    "\\frac{\\partial}{\\partial_t} (\\rho w) - \\frac{\\partial}{\\partial_x} \\sigma_{xz} - \\frac{\\partial}{\\partial_y} \\sigma_{yz} -  \\frac{\\partial}{\\partial_z} \\sigma_{zz} &= \\rho S_w\n",
    "\\end{align}\n",
    "$$\n",
    "\n"
   ]
  },
  {
   "cell_type": "markdown",
   "metadata": {},
   "source": [
    "## Dynamic Earthquake Rupture\n",
    "\n",
    "### Riemann solution\n",
    "\n",
    "SeisSol employs the Riemann solution for fault rupture dynamics. \n",
    "\n",
    "\n"
   ]
  },
  {
   "cell_type": "markdown",
   "metadata": {},
   "source": [
    "## SeisSol Initialization \n",
    "\n",
    "### Compilation specifications\n",
    "\n",
    "\n",
    "\n"
   ]
  },
  {
   "cell_type": "markdown",
   "metadata": {},
   "source": [
    "### Parameter file\n",
    "\n",
    "AscSimple_parameters.par (an Ascii text file) constains the necessary parameters for SeisSol to run the earthquake model.\n",
    "\n",
    "\n",
    "#### Easi\n",
    "\n",
    "SeisSol employs easi files (.yaml) for assigning properties related to fault friction, the stress field and the surrounding material.\n",
    "These are explained below for this earthquake model. \n",
    "\n",
    "More examples can be found at [SeisSol:easi](https://seissol.readthedocs.io/en/latest/easi.html)\n",
    "\n"
   ]
  },
  {
   "cell_type": "markdown",
   "metadata": {},
   "source": [
    "\n",
    "### Velocity structure\n",
    "\n",
    "AscSimple_material.yaml contains the constant values assigned in this test case to density (rho), Lame's parameter (lambda) and the shear modulus (mu).\n",
    "\n"
   ]
  },
  {
   "cell_type": "markdown",
   "metadata": {},
   "source": [
    "### Fault friction\n",
    "\n",
    "SeisSol provides a number of friction constitutive laws, e.g. linear slip weakening and rate-and-state. \n",
    "\n",
    "This test case utilizes linear slip weakening and this law (30) is assigned in the parameter file.\n",
    "The frictional parameters (the static and dynamic friction coefficients, mu_s and mu_d, and the slip-weakening distance, d_c) are assigned in AscSimple_initial_stress.yaml.\n",
    "The on-fault cohesion is constant in Scenario B, but increases to 8 MPa above 15 km depth in Scenario A.\n",   
    "\n"
   ]
  },
  {
   "cell_type": "markdown",
   "metadata": {},
   "source": [
    "### Initial stress condition\n",
    "\n",
    "SeisSol uses stress tensor ($\\sigma_{xx},\\sigma_{yy},\\sigma_{zz},\\sigma_{xy},\\sigma_{yz},\\sigma_{xz}$) or traction components (normal & shear stress) for initializing background stress condition. \n",
    "\n",
    "This test case has a simple, depth-dependent stress field specified in AscSimple_initial_stress.yaml.\n",
    "The pore fluid pressure also is specified in AscSimple_initial_stress.yaml and is near-lithostatic.\n",
    "<img src=\"AscSimple_PfTnTsMuDcCohStr_New_cmu.jpg\"\n",
    "     alt=\"Inputs for the earthquake model in the test case.\"\n",
    "     style=\"float: left; margin-right: 10px;height:300px;\" />\n",
    "     \n",
    "\n",
    "\n"
   ]
  },
  {
   "cell_type": "markdown",
   "metadata": {},
   "source": [
    "### Launch SeisSol in MPI Cluster\n",
    "\n",
    "Prerequisite module needs:\n",
    "\n",
    "- Python (>= 3.6)\n",
    "- Numpy (>= 1.12.0)\n",
    "- SCons (>= 3.0, for instructions see below)\n",
    "- hdf5 (>= 1.8, for instructions see below)\n",
    "- netcdf (C-Release) (>= 4.4, for instructions see below)\n",
    "- Intel compiler (>= 17.0, icc, icpc, ifort) or GCC (>= 5.0, gcc, g++, gfortran)\n",
    "- Some MPI implementation (e.g. OpenMPI)\n",
    "- ParMETIS for partitioning\n",
    "- libxsmm (libxsmm_gemm_generator) for small matrix multiplications\n",
    "- PSpaMM (pspamm.py) for small sparse matrix multiplications (required only on Knights Landing or Skylake)\n",
    "- CMake (for compiling submodules ImpalaJIT and yaml-cpp)\n"
   ]
  },
  {
   "cell_type": "markdown",
   "metadata": {},
   "source": [
    "### Mesh generation\n"
   ]
  },
  {
   "cell_type": "markdown",
   "metadata": {},
   "source": [
    "#### GMSH - a free mesh generator\n",
    "\n",
    "AscSimple.geo is the GMSH file for the earthquake model mesh and can be editted directly to change the structural model or the mesh resolution.\n",
    "The geo file is then optimized and converted to neu format.\n",
    "PUMGen is used to export the mesh (neu file) into an efficient xdmf format that is used by SeisSol.\n",
    "\n",
    "More GMSH information can be found at [SeisSol: Gmsh](https://seissol.readthedocs.io/en/latest/gmsh.html)\n",
    "More PUMGen information can be found at [SeisSol: PUMGen](https://seissol.readthedocs.io/en/latest/meshing-with-pumgen.html)\n",
    "\n",
    "\n",
    "<img src=\"AscSimple_geo.png\"\n",
    "     alt=\"Image of mesh structure defined in AscSimple.geo\"\n",
    "     style=\"float: left; margin-right: 10px;height:300px;\" />\n",
    "     \n",
    "\n",
    "\n"
   ]
  },
  {
   "cell_type": "code",
   "execution_count": null,
   "metadata": {},
   "outputs": [],
   "source": []
  }
 ],
 "metadata": {
  "kernelspec": {
   "display_name": "Python 3",
   "language": "python",
   "name": "python3"
  },
  "language_info": {
   "codemirror_mode": {
    "name": "ipython",
    "version": 3
   },
   "file_extension": ".py",
   "mimetype": "text/x-python",
   "name": "python",
   "nbconvert_exporter": "python",
   "pygments_lexer": "ipython3",
   "version": "3.6.7"
  }
 },
 "nbformat": 4,
 "nbformat_minor": 2
}
