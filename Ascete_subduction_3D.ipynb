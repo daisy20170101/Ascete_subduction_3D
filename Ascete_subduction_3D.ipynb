{
 "cells": [
  {
   "cell_type": "markdown",
   "metadata": {},
   "source": [
    "<div style='background-image: url(\"./seissol2.jpg\") ; padding: 0px ; background-size: cover ; border-radius: 5px ; height: 250px'>\n",
    "    <div style=\"float: right ; margin: 50px ; padding: 20px ; background: rgba(255 , 255 , 255 , 0.7) ; width: 50% ; height: 130px\">\n",
    "        <div style=\"position: relative ; top: 50% ; transform: translatey(-50%)\">\n",
    "            <div style=\"font-size: xx-large ; font-weight: 900 ; color: rgba(0 , 0 , 0 , 0.8) ; line-height: 100%\">ASCETE</div>\n",
    "            <div style=\"font-size: large ; padding-top: 20px ; color: rgba(0 , 0 , 0 , 0.5)\">3D Subduction fault simulation </div>\n",
    "        </div>\n",
    "    </div>\n",
    "</div>"
   ]
  },
  {
   "cell_type": "markdown",
   "metadata": {},
   "source": [
    "---\n",
    "\n",
    "This notebook is based on a test case from ASCETE project for linking dynamic rupture and tsunami modeling in a simple, 3D subduction zone model.\n",
    "\n",
    "More infomation about SeisSol can found at [@SeisSol GitHub](https://github.com/SeisSol)\n",
    "\n",
    "##### Authors:\n",
    "* Duo Li ([@dli](https://github.com/daisy20170101))\n",
    "* Thomas Ulrich ([@tulrich](https://github.com/Thomas-Ulrich))\n",
    "* Elizabeth Madden ([@elizabethmadden](betsymadden@gmail.com))\n",
    "* Alice Gabriel([@agabriel](https://www.geophysik.uni-muenchende/Members/gabriel))"
   ]
  },
  {
   "cell_type": "markdown",
   "metadata": {},
   "source": [
    "## Basic Equations\n",
    "\n",
    "SeisSol is designed to solve for seismic wave propagation and dynamic earthquake rupture on an unstructured tetrahedral mesh.\n",
    "\n",
    "SeisSol solves the linear elastic wave equation.\n",
    "$$\n",
    "\\begin{align}\n",
    "\\frac{\\partial}{\\partial_t} \\sigma_{xx} - (\\lambda+2\\mu)\\frac{\\partial}{\\partial_x} u - \\lambda \\frac{\\partial}{\\partial_y} v -\\lambda  \\frac{\\partial}{\\partial_z} w &= S_{xx}\\\\\\\\\n",
    "\\frac{\\partial}{\\partial_t} \\sigma_{yy} - \\lambda \\frac{\\partial}{\\partial_x} u - (\\lambda+2\\mu) \\frac{\\partial}{\\partial_y} v - \\lambda \\frac{\\partial}{\\partial_z} w &= S_{yy}\\\\\\\\\n",
    "\\frac{\\partial}{\\partial_t} \\sigma_{zz} - \\lambda \\frac{\\partial}{\\partial_x} u - \\lambda \\frac{\\partial}{\\partial_y} v - (\\lambda+2\\mu)\\frac{\\partial}{\\partial_z} w &= S_{zz}\\\\\\\\\n",
    "\\frac{\\partial}{\\partial_t} \\sigma_{xy} - \\mu (\\frac{\\partial}{\\partial_x}v +\\frac{\\partial}{\\partial_y}u  ) &=  S_{xy} \\\\\\\\\n",
    "\\frac{\\partial}{\\partial_t} \\sigma_{yz} - \\mu (\\frac{\\partial}{\\partial_z}v +\\frac{\\partial}{\\partial_y}w  ) &=  S_{yz} \\\\\\\\\n",
    "\\frac{\\partial}{\\partial_t} \\sigma_{xz} - \\mu (\\frac{\\partial}{\\partial_z}u +\\frac{\\partial}{\\partial_x}w  ) &=  S_{xz} \\\\\\\\\n",
    "\\frac{\\partial}{\\partial_t} (\\rho u) - \\frac{\\partial}{\\partial_x} \\sigma_{xx} - \\frac{\\partial}{\\partial_y} \\sigma_{xy} -  \\frac{\\partial}{\\partial_z} \\sigma_{xz} &= \\rho S_u\\\\\\\\\n",
    "\\frac{\\partial}{\\partial_t} (\\rho v) - \\frac{\\partial}{\\partial_x} \\sigma_{xy} - \\frac{\\partial}{\\partial_y} \\sigma_{yy} -  \\frac{\\partial}{\\partial_z} \\sigma_{yz} &= \\rho S_v\\\\\\\\\n",
    "\\frac{\\partial}{\\partial_t} (\\rho w) - \\frac{\\partial}{\\partial_x} \\sigma_{xz} - \\frac{\\partial}{\\partial_y} \\sigma_{yz} -  \\frac{\\partial}{\\partial_z} \\sigma_{zz} &= \\rho S_w\n",
    "\\end{align}\n",
    "$$\n",
    "\n"
   ]
  },
  {
   "cell_type": "markdown",
   "metadata": {},
   "source": [
    "\n"
   ]
  },
  {
   "cell_type": "markdown",
   "metadata": {},
   "source": [
    "## SeisSol Initialization \n",
    "\n",
    "### Compilation specifications\n",
    "\n",
    "\n",
    "\n"
   ]
  },
  {
   "cell_type": "markdown",
   "metadata": {},
   "source": [
    "### Parameter file\n",
    "\n",
    " The .par (an Ascii text file) constains the necessary parameters for SeisSol to run the earthquake model.\n",
    "\n",
    "[An example](PAR_AscSimple_dip16_big_PfLith_mu4.txt)\n",
    "\n",
    "#### Equation\n",
    "Specify either elastic or plastic equation.\n",
    "\n",
    "```c\n",
    "MaterialFileName = 'material_ascSimple.yaml'\n",
    "```\n",
    "If compile with plastic=1 then 2 more parameters are needed:\n",
    "\n",
    "Plasticity=0 and  Tv=0.05 \n"
   ]
  },
  {
   "cell_type": "markdown",
   "metadata": {},
   "source": [
    "#### Boundaries\n",
    "```bash\n",
    "BC_fs = 1                               ! enable free surface boundaries\n",
    "\n",
    "BC_dr = 1                               ! enable fault boundaries\n",
    "\n",
    "BC_of = 1                               ! enable absorbing boundaries\n",
    "```"
   ]
  },
  {
   "cell_type": "markdown",
   "metadata": {},
   "source": [
    "#### DynamicRupture\n",
    "Specity parameters related to dynamic rupture fault, e.g. friction paramters.\n",
    "\n",
    "    FL = 30        ! Friction law  !0: none, 16:LSW, 103: RS with strong velocity weakening\n",
    "\n",
    "    ModelFileName = 'initial_stress_ascSimple.dip16_PfLith_mu4.yaml'\n",
    "\n",
    "    GPwise = 1                  ! elementwise =0 ; GPwise =1\n",
    "\n",
    "    XRef = 1.0e9                ! Reference point\n",
    "\n",
    "    YRef = 0.0 \n",
    "\n",
    "    ZRef = 0.0 \n",
    "\n",
    "    t_0 = 0.5\n",
    "\n",
    "    RF_output_on = 1            ! RF on      \n",
    "\n",
    "    magnitude_output_on =1\n",
    "\n",
    "    energy_rate_output_on =1\n",
    "\n",
    "    OutputPointType = 4         ! Type (0: no output, 1: take GP's 2: 4 points per surface triangle, 3: output at certain pickpoints, 4: fault surface output, 5=4+3)\n",
    "    \n",
    "    "
   ]
  },
  {
   "cell_type": "markdown",
   "metadata": {},
   "source": [
    "#### Elementwise\n",
    "\n",
    "Specify output variabls and parameters for each elelment. \n",
    "\n",
    "    printIntervalCriterion = 2       ! 1=iteration, 2=time\n",
    "\n",
    "    printtimeinterval_sec = 1.0      ! Time interval at which output will be written\n",
    "\n",
    "    OutputMask = 1 1 1 1 1 1 1 1 1 1 1  \n",
    "\n",
    "    ! output 1/ yes, 0/ no     position: 1/ SRs and SRd: slip rates in strike and dip direction \n",
    "    ! 2/ T_s, T_d: transient shear stress in strike and dip direction, P_n: transient normal stress\n",
    "    ! 3/ U_n: normal velocity (note that there is no fault opening in SeisSol)\n",
    "    ! 4/ Mud: current friction, StV: state variable in case of RS friction\n",
    "    ! 5/ Ts0,Td0,Pn0: total stress, including initial stress, 6/ Sls and Sld: slip in strike and dip direction\n",
    "    ! 7/ Vr: rupture velocity, computed from the spatial derivatives of the rupture time\n",
    "    ! 8/ ASl: absolute slip, 9/ PSR: peak slip rate, 10/ RT: rupture time, 11/DS: only with LSW, time at which ASl>D_c\n",
    "\n",
    "    refinement_strategy = 2\n",
    "\n",
    "    refinement = 0\n",
    "\n",
    "#### Pickpoint\n",
    "\n",
    "    printtimeinterval = 1       ! Index of printed info at timesteps -  was 10\n",
    "\n",
    "    OutputMask = 1 1 1 0 1      ! output 1/ yes, 0/ no - position: 1/ slip rate 2/ stress 3/ normal velocity 4/ in case of rate and state output friction and state variable\n",
    "                            ! 5/ background values\n",
    "                            \n",
    "    nOutpoints = 1\n",
    "\n",
    "    PPFileName = 'hypo.dip18.dat'\n"
   ]
  },
  {
   "cell_type": "markdown",
   "metadata": {},
   "source": [
    "#### SourceType\n",
    "\n",
    "Setup point source if necessary.\n",
    "\n",
    "#### SpongeLayer\n",
    "\n",
    "#### MeshNml\n",
    "\n",
    "Setup mesh type and file.\n",
    "\n",
    "\n",
    "    MeshFile = 'AscSimple.big.100.04.025.r6.dip16'\n",
    "    meshgenerator = 'PUML'       ! Name of meshgenerator (format)\n",
    "\n",
    "\n",
    "#### Discretization\n",
    "\n",
    "Spatical and time domain discretization.\n",
    "\n",
    "    CFL = 0.5                       ! CFL number (<=1.0)\n",
    "    FixTimeStep = 5                 ! Manualy chosen minimum tim\n",
    "    ClusteredLTS = 2 \t\t! Local time stepping\n",
    "\n"
   ]
  },
  {
   "cell_type": "markdown",
   "metadata": {},
   "source": [
    "#### Output\n",
    "\n",
    "Specify output\n",
    "\n",
    "    OutputFile = 'output_PfLith_mu4/output_AscSimple_dip16_withCoh_PfLith_mu4'      \n",
    "    !checkPointFile = '../OutputSumatraTestb/checkpoint'\n",
    "    !checkPointInterval = 200    ! Set to 0 to disable checkpointing\n",
    "    !checkPointBackend = 'hdf5'  ! Either ’hdf5’, ’mpio’ or ’none’\n",
    "    !             |stress     |vel  |plast\n",
    "    iOutputMask = 1 1 1 1 1 1 1 1 1 ! 0 0 0 0 0 0 0     ! Variables ouptut\n",
    "    iOutputMaskMaterial = 1 1 1          ! Material output\n",
    "    Format = 10                          ! Format (0=IDL, 1=TECPLOT, 2=IBM DX, 4=GiD, 6=hdf5, 10= no output))\n",
    "    !Interval = 100000                    ! Index of printed info at timesteps\n",
    "    TimeInterval = 5.0                   ! Index of printed info at time -  was 2\n",
    "    !OutputRegionBounds = 100e3 1000e3 100e3 1600e3 -50e3 50e3\n",
    "    printIntervalCriterion = 2           ! Criterion for index of printed info: 1=timesteps,2=time,3=timesteps+time\n",
    "    SurfaceOutput = 1\n",
    "    SurfaceOutputRefinement = 1\n",
    "    SurfaceOutputInterval = 1.0\n",
    "    pickdt = 0.1                         ! Pickpoint Sampling\n",
    "    pickDtType = 1                       ! Pickpoint Type\n",
    "    FaultOutputFlag = 1                 ! DR output (add this line only if DR is active)\n",
    "    !nRecordPoints = 4783                   ! number of Record points which are read from file\n",
    "    !RFileName = 'mesh161012b_orig_sameorder.dat'          ! Record Points in extra file\n"
   ]
  },
  {
   "cell_type": "markdown",
   "metadata": {},
   "source": [
    "#### AbortCriteria\n",
    "\n",
    "    EndTime = 300.0\n",
    "\n",
    "#### Analysis\n",
    "\n",
    "#### Debugging"
   ]
  },
  {
   "cell_type": "markdown",
   "metadata": {},
   "source": [
    "### Easi\n",
    "\n",
    "SeisSol employs easi files (.yaml) for assigning properties related to fault friction, the stress field and the surrounding material. It is advantageous to use yaml language for complicated parameter file.\n",
    "\n",
    "These are explained below for this earthquake model. \n",
    "\n",
    "More examples can be found at [SeisSol:easi](https://seissol.readthedocs.io/en/latest/easi.html)\n",
    "\n"
   ]
  },
  {
   "cell_type": "markdown",
   "metadata": {},
   "source": [
    "\n",
    "### Velocity structure\n",
    "\n",
    "A materials .yaml contains the constant values assigned in this test case to density (rho), Lame's parameter (lambda) and the shear modulus (mu).\n",
    "\n",
    "[The material yaml file](material_ascSimple.yaml)\n"
   ]
  },
  {
   "cell_type": "markdown",
   "metadata": {},
   "source": [
    "### Fault friction\n",
    "\n",
    "SeisSol provides a number of friction constitutive laws, e.g. linear slip weakening and rate-and-state. \n",
    "\n",
    "This test case utilizes linear slip weakening and this law (30) is assigned in the parameter file.\n",
    "The frictional parameters (the static and dynamic friction coefficients, mu_s and mu_d, and the slip-weakening distance, d_c) are assigned in the stress .yaml file.\n",
    "The on-fault cohesion is constant in Scenario B, but increases to 8 MPa above 15 km depth in Scenario A.\n",
    "\n"
   ]
  },
  {
   "cell_type": "markdown",
   "metadata": {},
   "source": [
    "### Initial stress condition\n",
    "\n",
    "SeisSol uses stress tensor ($\\sigma_{xx},\\sigma_{yy},\\sigma_{zz},\\sigma_{xy},\\sigma_{yz},\\sigma_{xz}$) or traction components (normal & shear stress) for initializing background stress condition. \n",
    "\n",
    "This test case has a simple, depth-dependent stress field specified in AscSimple_initial_stress.yaml.\n",
    "The pore fluid pressure also is specified in the stress .yaml and is near-lithostatic.\n",
    "\n",
    "\n",
    "<img src=\"AscSimple_PfTnTsMuDcCohStr_New_cmu.jpg\"\n",
    "     alt=\"Inputs for the earthquake model in the test case.\"\n",
    "     style=\"float: left; margin-right: 10px;height:300px;\" />\n",
    "     \n",
    "\n",
    "\n"
   ]
  },
  {
   "cell_type": "markdown",
   "metadata": {},
   "source": [
    "### Mesh generation\n"
   ]
  },
  {
   "cell_type": "markdown",
   "metadata": {},
   "source": [
    "#### GMSH - a free mesh generator\n",
    "\n",
    "The .geo is the GMSH file for the earthquake model mesh and can be editted directly to change the structural model or the mesh resolution.\n",
    "The .geo file is then optimized and converted to .neu format.\n",
    "PUMGen is used to export the mesh into an efficient xdmf format that is used by SeisSol.\n",
    "\n",
    "More GMSH information can be found at [SeisSol: Gmsh](https://seissol.readthedocs.io/en/latest/gmsh.html)\n",
    "More PUMGen information can be found at [SeisSol: Meshing with PUMGen](https://seissol.readthedocs.io/en/latest/meshing-with-pumgen.html)\n",
    "\n",
    "\n",
    "<img src=\"AscSimple_geo.png\"\n",
    "     alt=\"Image of mesh structure defined in the .geo file\"\n",
    "     style=\"float: left; margin-right: 10px;height:300px;\" />\n",
    "     \n",
    "\n",
    "\n"
   ]
  },
  {
   "cell_type": "markdown",
   "metadata": {},
   "source": [
    "#### Simmodeler - a commercial mesh generator\n"
   ]
  },
  {
   "cell_type": "markdown",
   "metadata": {},
   "source": [
    "A detailed instruction can be found at [SeisSol: GOCAD model](https://seissol.readthedocs.io/en/latest/meshing-with-simmodeler.html)"
   ]
  },
  {
   "cell_type": "code",
   "execution_count": null,
   "metadata": {},
   "outputs": [],
   "source": []
  },
  {
   "cell_type": "markdown",
   "metadata": {},
   "source": [
    "### Launch SeisSol in MPI Cluster\n",
    "\n",
    "Prerequisite module needs:\n",
    "\n",
    "- Python (>= 3.6)\n",
    "- Numpy (>= 1.12.0)\n",
    "- SCons (>= 3.0, for instructions see below)\n",
    "- hdf5 (>= 1.8, for instructions see below)\n",
    "- netcdf (C-Release) (>= 4.4, for instructions see below)\n",
    "- Intel compiler (>= 17.0, icc, icpc, ifort) or GCC (>= 5.0, gcc, g++, gfortran)\n",
    "- Some MPI implementation (e.g. OpenMPI)\n",
    "- ParMETIS for partitioning\n",
    "- libxsmm (libxsmm_gemm_generator) for small matrix multiplications\n",
    "- PSpaMM (pspamm.py) for small sparse matrix multiplications (required only on Knights Landing or Skylake)\n",
    "- CMake (for compiling submodules ImpalaJIT and yaml-cpp)\n"
   ]
  },
  {
   "cell_type": "markdown",
   "metadata": {},
   "source": [
    "## Launch SeisSol in ICTP Argo\n",
    "\n",
    "```bash\n",
    "export PATH=$PATH:$HOME/bin::/home/dli/software/bin\n",
    "export LIBRARY_PATH=/home/dli/software/lib:$LIBRARY_PATH\n",
    "export LD_LIBRARY_PATH=/home/dli/software/lib:$LD_LIBRARY_PATH\n",
    "\n",
    "#module for SeisSol\n",
    "module load intel-mkl/2017\n",
    "module load intel/2017\n",
    "module load openmpi/1.10.2/intel/2017\n",
    "module load python/3.6.4\n",
    "module load cmake/3.9.2\n",
    "\n",
    "#compiler for SeisSol in openmpi/1.10.2/intel/2017\n",
    "export CC=mpicc\n",
    "export FC=mpif90\n",
    "export CXX=mpicxx\n",
    "```"
   ]
  },
  {
   "cell_type": "markdown",
   "metadata": {},
   "source": [
    "## Run Seissol\n",
    "\n",
    "\n",
    "    echo $dir_to_SeisSol/Maple/ > DGPATH\n",
    "    mpirun -n np ./seissol_excutable parameters.par\n",
    "\n"
   ]
  },
  {
   "cell_type": "markdown",
   "metadata": {},
   "source": [
    "## Result Visualization\n",
    "\n",
    "SeisSol provides results in vtk format that is used in [ParaView](https://www.paraview.org/) directly. \n",
    "\n"
   ]
  },
  {
   "cell_type": "markdown",
   "metadata": {},
   "source": [
    "A collection of useful scripts can be found in [SeisSol](https://github.com/SeisSol/Visualization). "
   ]
  },
  {
   "cell_type": "code",
   "execution_count": null,
   "metadata": {},
   "outputs": [],
   "source": []
  }
 ],
 "metadata": {
  "kernelspec": {
   "display_name": "Python 3",
   "language": "python",
   "name": "python3"
  },
  "language_info": {
   "codemirror_mode": {
    "name": "ipython",
    "version": 3
   },
   "file_extension": ".py",
   "mimetype": "text/x-python",
   "name": "python",
   "nbconvert_exporter": "python",
   "pygments_lexer": "ipython3",
   "version": "3.6.8"
  }
 },
 "nbformat": 4,
 "nbformat_minor": 2
}
