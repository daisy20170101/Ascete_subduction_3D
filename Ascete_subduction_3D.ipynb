{
 "cells": [
  {
   "cell_type": "markdown",
   "metadata": {},
   "source": [
    "<div style='background-image: url(\"./seissol2.jpg\") ; padding: 0px ; background-size: cover ; border-radius: 5px ; height: 250px'>\n",
    "    <div style=\"float: right ; margin: 50px ; padding: 20px ; background: rgba(255 , 255 , 255 , 0.7) ; width: 50% ; height: 130px\">\n",
    "        <div style=\"position: relative ; top: 50% ; transform: translatey(-50%)\">\n",
    "            <div style=\"font-size: xx-large ; font-weight: 900 ; color: rgba(0 , 0 , 0 , 0.8) ; line-height: 100%\">ASCETE</div>\n",
    "            <div style=\"font-size: large ; padding-top: 20px ; color: rgba(0 , 0 , 0 , 0.5)\">3D Subduction fault simulation </div>\n",
    "        </div>\n",
    "    </div>\n",
    "</div>"
   ]
  },
  {
   "cell_type": "markdown",
   "metadata": {},
   "source": [
    "---\n",
    "\n",
    "This notebook is based on ASCETE project for coupling dynamic rupture and tsunami modeling in 3D subduction model.\n",
    "\n",
    "More infomation can found at [@SeisSol GitHub](https://github.com/SeisSol)\n",
    "\n",
    "##### Authors:\n",
    "* Duo Li ([@dli](https://github.com/daisy20170101))\n",
    "* Thomas Ulrich ([@tulrich](https://github.com/Thomas-Ulrich))\n",
    "* Elizabeth Madden ([@elizabethmadden](betsymadden@gmail.com))\n",
    "* Alice Gabriel([@agabriel](https://www.geophysik.uni-muenchende/Members/gabriel))"
   ]
  },
  {
   "cell_type": "markdown",
   "metadata": {},
   "source": [
    "## Basic Equations\n",
    "\n",
    "SeisSol is designed for solving wave propagation and fault dynamic rupture in unstructured tetrahedral mesh media.\n",
    "\n",
    "SeisSol solved for linear elastic wave equation.\n",
    "$$\n",
    "\\begin{align}\n",
    "\\frac{\\partial}{\\partial_t} \\sigma_{xx} - (\\lambda+2\\mu)\\frac{\\partial}{\\partial_x} u - \\lambda \\frac{\\partial}{\\partial_y} v -\\lambda  \\frac{\\partial}{\\partial_z} w &= S_{xx}\\\\\\\\\n",
    "\\frac{\\partial}{\\partial_t} \\sigma_{yy} - \\lambda \\frac{\\partial}{\\partial_x} u - (\\lambda+2\\mu) \\frac{\\partial}{\\partial_y} v - \\lambda \\frac{\\partial}{\\partial_z} w &= S_{yy}\\\\\\\\\n",
    "\\frac{\\partial}{\\partial_t} \\sigma_{zz} - \\lambda \\frac{\\partial}{\\partial_x} u - \\lambda \\frac{\\partial}{\\partial_y} v - (\\lambda+2\\mu)\\frac{\\partial}{\\partial_z} w &= S_{zz}\\\\\\\\\n",
    "\\frac{\\partial}{\\partial_t} \\sigma_{xy} - \\mu (\\frac{\\partial}{\\partial_x}v +\\frac{\\partial}{\\partial_y}u  ) &=  S_{xy} \\\\\\\\\n",
    "\\frac{\\partial}{\\partial_t} \\sigma_{yz} - \\mu (\\frac{\\partial}{\\partial_z}v +\\frac{\\partial}{\\partial_y}w  ) &=  S_{yz} \\\\\\\\\n",
    "\\frac{\\partial}{\\partial_t} \\sigma_{xz} - \\mu (\\frac{\\partial}{\\partial_z}u +\\frac{\\partial}{\\partial_x}w  ) &=  S_{xz} \\\\\\\\\n",
    "\\frac{\\partial}{\\partial_t} (\\rho u) - \\frac{\\partial}{\\partial_x} \\sigma_{xx} - \\frac{\\partial}{\\partial_y} \\sigma_{xy} -  \\frac{\\partial}{\\partial_z} \\sigma_{xz} &= \\rho S_u\\\\\\\\\n",
    "\\frac{\\partial}{\\partial_t} (\\rho v) - \\frac{\\partial}{\\partial_x} \\sigma_{xy} - \\frac{\\partial}{\\partial_y} \\sigma_{yy} -  \\frac{\\partial}{\\partial_z} \\sigma_{yz} &= \\rho S_v\\\\\\\\\n",
    "\\frac{\\partial}{\\partial_t} (\\rho w) - \\frac{\\partial}{\\partial_x} \\sigma_{xz} - \\frac{\\partial}{\\partial_y} \\sigma_{yz} -  \\frac{\\partial}{\\partial_z} \\sigma_{zz} &= \\rho S_w\n",
    "\\end{align}\n",
    "$$\n",
    "\n"
   ]
  },
  {
   "cell_type": "markdown",
   "metadata": {},
   "source": [
    "## Fault Dynamic Rupture\n",
    "\n",
    "### Riemann solution\n",
    "\n",
    "SeisSol employs Riemann solution for fault rupture dynamics. \n",
    "\n",
    "\n"
   ]
  },
  {
   "cell_type": "markdown",
   "metadata": {},
   "source": [
    "## SeisSol Initialization \n",
    "\n",
    "### Compilation specification\n",
    "\n",
    "\n",
    "\n"
   ]
  },
  {
   "cell_type": "markdown",
   "metadata": {},
   "source": [
    "### Parameter file\n",
    "\n",
    "AscSimple_parameters.par (an Ascii text file) constains the necessary parameters for SeisSol to run the earthquake model. \n",
    "\n",
    "\n",
    "#### Easi\n",
    "\n",
    "SeisSol employs easi files (.yaml) for inputing friction, stress and material parameters. \n",
    "These are explained below for this earthquake model. \n",
    "\n",
    "More examples can be found at [SeisSol:easi](https://seissol.readthedocs.io/en/latest/easi.html)"
   ]
  },
  {
   "cell_type": "markdown",
   "metadata": {},
   "source": [
    "\n",
    "### Velocity structure\n",
    "\n",
    "AscSimple_material.yaml contains constant values for density (rho = 3775), Lame's parameter (lambda = 85 GPa) and the shear modulus (mu = 68GPa) used in this test case"
   ]
  },
  {
   "cell_type": "markdown",
   "metadata": {},
   "source": [
    "### Fault friction\n",
    "\n",
    "SeisSol provides a number of friction constitutive laws, e.g linear slip weakening law and rate-and-state law. \n",
    "\n",
    "This test case utilizes linear slip weakening and this law (30) is assigned in the parameter file. \n",
    "The friction parameters are assigned in AscSimple_initial_stress.yaml as mu_s: 0.275, mu_d: 0.250 and d_c: 0.5. \n",
    "The on-fault cohesion is 0.4 MPa in Scenario A and B. In Scenario A, this increases to 8 MPa above 15 km depth. \n"   
   ]
  },
  {
   "cell_type": "markdown",
   "metadata": {},
   "source": [
    "### Initial stress condition\n",
    "\n",
    "SeisSol uses stress tensor ($\\sigma_{xx},\\sigma_{yy},\\sigma_{zz},\\sigma_{xy},\\sigma_{yz},\\sigma_{xz}$) or traction components (normal & shear stress) for initializing background stress condition. \n",
    "\n",
    "This test case has a simple, depth-dependent stress field specified in AscSimple_initial_stress.yaml. \n",
    "The pore fluid pressure also is specified in AscSimple_initial_stress.yaml and is near-lithostatic. \n"
       "<img src=\"AscSimple_PfTnTsMuDcCohStr_New_cmu.jpg\"\n",
    "     alt=\"Inputs for the earthquake model in the earthquake-tsunami test case. Variation along the fault with depth in: (a) effective normal traction and pore fluid pressure, (b) shear traction, (c) apparent coefficients of static and dynamic friction, (d) on-fault cohesion and fault strength, and (e) slip-weakening distance.\"\n",
    "     style=\"float: left; margin-right: 10px;height:300px;\" />\n",
    "     \n",
    "\n",
    "\n"
   ]
  },
  {
   "cell_type": "markdown",
   "metadata": {},
   "source": [
    "### Launch SeisSol in MPI Cluster\n",
    "\n",
    "Prerequisite module needs:\n",
    "\n",
    "- Python (>= 3.6)\n",
    "- Numpy (>= 1.12.0)\n",
    "- SCons (>= 3.0, for instructions see below)\n",
    "- hdf5 (>= 1.8, for instructions see below)\n",
    "- netcdf (C-Release) (>= 4.4, for instructions see below)\n",
    "- Intel compiler (>= 17.0, icc, icpc, ifort) or GCC (>= 5.0, gcc, g++, gfortran)\n",
    "- Some MPI implementation (e.g. OpenMPI)\n",
    "- ParMETIS for partitioning\n",
    "- libxsmm (libxsmm_gemm_generator) for small matrix multiplications\n",
    "- PSpaMM (pspamm.py) for small sparse matrix multiplications (required only on Knights Landing or Skylake)\n",
    "- CMake (for compiling submodules ImpalaJIT and yaml-cpp)\n"
   ]
  },
  {
   "cell_type": "markdown",
   "metadata": {},
   "source": [
    "### Mesh generation\n"
   ]
  },
  {
   "cell_type": "markdown",
   "metadata": {},
   "source": [
    "#### GMSH - a free mesh generator\n",
    "\n",
    "An GMSH exmaple with a vertical planar fault is shown in tpv5_200m.geo.\n",
    "A detailed instruction can be found at [SeisSol: Gmsh](https://seissol.readthedocs.io/en/latest/gmsh.html)\n",
    "\n",
    "\n",
    "<img src=\"mesh5.png\"\n",
    "     alt=\"mesh tpv5 in gmsh\"\n",
    "     style=\"float: left; margin-right: 10px;height:300px;\" />\n",
    "     \n",
    "\n",
    "\n"
   ]
  },
  {
   "cell_type": "markdown",
   "metadata": {},
   "source": [
    "#### Simmodeler - a commercial mesh generator\n"
   ]
  },
  {
   "cell_type": "markdown",
   "metadata": {},
   "source": [
    "A detailed instruction can be found at [SeisSol: GOCAD model](https://seissol.readthedocs.io/en/latest/meshing-with-simmodeler.html)"
   ]
  },
  {
   "cell_type": "code",
   "execution_count": null,
   "metadata": {},
   "outputs": [],
   "source": []
  }
 ],
 "metadata": {
  "kernelspec": {
   "display_name": "Python 3",
   "language": "python",
   "name": "python3"
  },
  "language_info": {
   "codemirror_mode": {
    "name": "ipython",
    "version": 3
   },
   "file_extension": ".py",
   "mimetype": "text/x-python",
   "name": "python",
   "nbconvert_exporter": "python",
   "pygments_lexer": "ipython3",
   "version": "3.6.7"
  }
 },
 "nbformat": 4,
 "nbformat_minor": 2
}
